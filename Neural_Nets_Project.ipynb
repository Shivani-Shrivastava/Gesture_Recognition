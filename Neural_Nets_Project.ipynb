{
 "cells": [
  {
   "cell_type": "markdown",
   "metadata": {},
   "source": [
    "# Gesture Recognition\n",
    "In this group project, you are going to build a 3D Conv model that will be able to predict the 5 gestures correctly. Please import the following libraries to get started."
   ]
  },
  {
   "cell_type": "markdown",
   "metadata": {},
   "source": [
    "## Problem Statement"
   ]
  },
  {
   "cell_type": "markdown",
   "metadata": {},
   "source": [
    "Imagine you are working as a data scientist at a home electronics company which manufactures state of the art smart televisions. You want to develop a cool feature in the smart-TV that can recognise five different gestures performed by the user which will help users control the TV without using a remote. \n",
    "\n",
    "The gestures are continuously monitored by the webcam mounted on the TV. Each gesture corresponds to a specific command:\n",
    "-   Thumbs up:  Increase the volume\n",
    "-   Thumbs down: Decrease the volume\n",
    "-   Left swipe: 'Jump' backwards 10 seconds\n",
    "-   Right swipe: 'Jump' forward 10 seconds  \n",
    "-   Stop: Pause the movie\n",
    "\n",
    "Each video is a sequence of 30 frames (or images)."
   ]
  },
  {
   "cell_type": "markdown",
   "metadata": {},
   "source": [
    "## Objectives to Achieve"
   ]
  },
  {
   "cell_type": "markdown",
   "metadata": {},
   "source": [
    "#### Generator:  \n",
    "The generator should be able to take a batch of videos as input without any error. Steps like cropping, resizing and normalization should be performed successfully.\n",
    "\n",
    "#### Model: \n",
    "Develop a model that is able to train without any errors which will be judged on the total number of parameters (as the inference(prediction) time should be less) and the accuracy achieved. As suggested by Snehansu, start training on a small amount of data and then proceed further.\n",
    "\n",
    "#### Write up: \n",
    "This should contain the detailed procedure followed in choosing the final model. The write up should start with the reason for choosing the base model, then highlight the reasons and metrics taken into consideration to modify and experiment to arrive at the final model. "
   ]
  },
  {
   "cell_type": "markdown",
   "metadata": {},
   "source": [
    "## Environment Setup and check"
   ]
  },
  {
   "cell_type": "code",
   "execution_count": 1,
   "metadata": {},
   "outputs": [],
   "source": [
    "import tensorflow as tf\n",
    "import warnings\n",
    "warnings.filterwarnings('ignore')"
   ]
  },
  {
   "cell_type": "code",
   "execution_count": 2,
   "metadata": {},
   "outputs": [
    {
     "data": {
      "text/plain": [
       "True"
      ]
     },
     "execution_count": 2,
     "metadata": {},
     "output_type": "execute_result"
    }
   ],
   "source": [
    "tf.test.is_built_with_cuda()"
   ]
  },
  {
   "cell_type": "code",
   "execution_count": 3,
   "metadata": {
    "scrolled": true
   },
   "outputs": [
    {
     "name": "stdout",
     "output_type": "stream",
     "text": [
      "[name: \"/device:CPU:0\"\n",
      "device_type: \"CPU\"\n",
      "memory_limit: 268435456\n",
      "locality {\n",
      "}\n",
      "incarnation: 13399651308010759880\n",
      ", name: \"/device:GPU:0\"\n",
      "device_type: \"GPU\"\n",
      "memory_limit: 14648653952\n",
      "locality {\n",
      "  bus_id: 1\n",
      "  links {\n",
      "  }\n",
      "}\n",
      "incarnation: 9359555293171892406\n",
      "physical_device_desc: \"device: 0, name: Tesla T4, pci bus id: 0000:00:04.0, compute capability: 7.5\"\n",
      "]\n"
     ]
    }
   ],
   "source": [
    "from tensorflow.python.client import device_lib\n",
    "print(device_lib.list_local_devices())"
   ]
  },
  {
   "cell_type": "markdown",
   "metadata": {},
   "source": [
    "## Importing all the important libraries"
   ]
  },
  {
   "cell_type": "raw",
   "metadata": {},
   "source": [
    "!pip install opencv-python"
   ]
  },
  {
   "cell_type": "code",
   "execution_count": 4,
   "metadata": {},
   "outputs": [],
   "source": [
    "# Import necessary libraries, modules and instantiation\n",
    "import numpy as np\n",
    "import os\n",
    "from skimage.io import imread\n",
    "import datetime\n",
    "import os\n",
    "import abc\n",
    "from sys import getsizeof\n",
    "\n",
    "import cv2\n",
    "import matplotlib.pyplot as plt\n",
    "\n",
    "from tensorflow.keras.models import Sequential, Model\n",
    "from tensorflow.keras.layers import Dense, GRU, Flatten, TimeDistributed, Flatten, BatchNormalization, Activation\n",
    "from tensorflow.keras.layers import Conv3D, MaxPooling3D, Conv2D, MaxPooling2D\n",
    "from tensorflow.keras.layers import LSTM\n",
    "from tensorflow.keras.callbacks import ModelCheckpoint, ReduceLROnPlateau, EarlyStopping\n",
    "from tensorflow.keras import optimizers\n",
    "from tensorflow.keras.layers import Dropout"
   ]
  },
  {
   "cell_type": "markdown",
   "metadata": {},
   "source": [
    "Degrading numpy version so that it supports lstm implementation"
   ]
  },
  {
   "cell_type": "raw",
   "metadata": {},
   "source": [
    "pip install -U numpy==1.18.5"
   ]
  },
  {
   "cell_type": "code",
   "execution_count": 5,
   "metadata": {},
   "outputs": [
    {
     "data": {
      "text/plain": [
       "<module 'numpy.version' from '/mnt/disks/user/anaconda3/envs/cuda101/lib/python3.8/site-packages/numpy/version.py'>"
      ]
     },
     "execution_count": 5,
     "metadata": {},
     "output_type": "execute_result"
    }
   ],
   "source": [
    "import numpy as np\n",
    "np.version"
   ]
  },
  {
   "cell_type": "code",
   "execution_count": 6,
   "metadata": {},
   "outputs": [
    {
     "data": {
      "text/plain": [
       "'1.18.5'"
      ]
     },
     "execution_count": 6,
     "metadata": {},
     "output_type": "execute_result"
    }
   ],
   "source": [
    "np.__version__"
   ]
  },
  {
   "cell_type": "markdown",
   "metadata": {},
   "source": [
    "We set the random seed so that the results don't vary drastically."
   ]
  },
  {
   "cell_type": "code",
   "execution_count": 7,
   "metadata": {},
   "outputs": [],
   "source": [
    "np.random.seed(30)\n",
    "import random as rn\n",
    "rn.seed(30)\n",
    "import tensorflow as tf\n",
    "tf.random.set_seed(30)"
   ]
  },
  {
   "cell_type": "markdown",
   "metadata": {},
   "source": [
    "## Reading Dataset"
   ]
  },
  {
   "cell_type": "markdown",
   "metadata": {},
   "source": [
    "In this block, you read the folder names for training and validation. You also set the `batch_size` here. Note that you set the batch size in such a way that you are able to use the GPU in full capacity. You keep increasing the batch size until the machine throws an error."
   ]
  },
  {
   "cell_type": "code",
   "execution_count": 8,
   "metadata": {},
   "outputs": [],
   "source": [
    "project_folder='Project_data'"
   ]
  },
  {
   "cell_type": "markdown",
   "metadata": {},
   "source": [
    "## Generator\n",
    "This is one of the most important part of the code. The overall structure of the generator has been given. In the generator, you are going to preprocess the images as you have images of 2 different dimensions as well as create a batch of video frames. You have to experiment with `img_idx`, `y`,`z` and normalization such that you get high accuracy."
   ]
  },
  {
   "cell_type": "code",
   "execution_count": 9,
   "metadata": {},
   "outputs": [],
   "source": [
    "class ModelBuilder(metaclass= abc.ABCMeta):\n",
    "    # initialisng the path where project data resides\n",
    "    def initialize_path(self,project_folder):\n",
    "        self.train_doc = np.random.permutation(open(project_folder + '/' + 'train.csv').readlines())\n",
    "        self.val_doc = np.random.permutation(open(project_folder + '/' + 'val.csv').readlines())\n",
    "        self.train_path = project_folder + '/' + 'train'\n",
    "        self.val_path =  project_folder + '/' + 'val'\n",
    "        self.num_train_sequences = len(self.train_doc)\n",
    "        self.num_val_sequences = len(self.val_doc)\n",
    "    # initialising the image properties    \n",
    "    def initialize_image_properties(self,image_height=100,image_width=100):\n",
    "        self.image_height=image_height\n",
    "        self.image_width=image_width\n",
    "        self.channels=3\n",
    "        self.num_classes=5\n",
    "        self.total_frames=30\n",
    "    # initialising the batch size, frames to sample and the no. of epochs\n",
    "    def initialize_hyperparams(self,frames_to_sample=30,batch_size=20,num_epochs=20):\n",
    "        self.frames_to_sample=frames_to_sample\n",
    "        self.batch_size=batch_size\n",
    "        self.num_epochs=num_epochs\n",
    "        \n",
    "    # MOST IMPORTANT PART HERE - The generator function        \n",
    "    def generator(self,source_path, folder_list, augment=False):\n",
    "        img_idx = np.round(np.linspace(0,self.total_frames-1,self.frames_to_sample)).astype(int)\n",
    "        batch_size=self.batch_size\n",
    "        while True:\n",
    "            t = np.random.permutation(folder_list)\n",
    "            num_batches = len(t)//batch_size\n",
    "        \n",
    "            for batch in range(num_batches): \n",
    "                batch_data, batch_labels= self.one_batch_data(source_path,t,batch,batch_size,img_idx,augment)\n",
    "                yield batch_data, batch_labels \n",
    "\n",
    "            remaining_seq=len(t)%batch_size\n",
    "        \n",
    "            if (remaining_seq != 0):\n",
    "                batch_data, batch_labels= self.one_batch_data(source_path,t,num_batches,batch_size,img_idx,augment,remaining_seq)\n",
    "                yield batch_data, batch_labels \n",
    "    \n",
    "    \n",
    "    def one_batch_data(self,source_path,t,batch,batch_size,img_idx,augment,remaining_seq=0):\n",
    "    \n",
    "        seq_len = remaining_seq if remaining_seq else batch_size\n",
    "    \n",
    "        batch_data = np.zeros((seq_len,len(img_idx),self.image_height,self.image_width,self.channels)) \n",
    "        batch_labels = np.zeros((seq_len,self.num_classes)) \n",
    "    \n",
    "        if (augment): batch_data_aug = np.zeros((seq_len,len(img_idx),self.image_height,self.image_width,self.channels))\n",
    "\n",
    "        \n",
    "        for folder in range(seq_len): \n",
    "            imgs = os.listdir(source_path+'/'+ t[folder + (batch*batch_size)].split(';')[0]) \n",
    "            for idx,item in enumerate(img_idx):\n",
    "                #performing image reading and resizing\n",
    "                image = imread(source_path+'/'+ t[folder + (batch*batch_size)].strip().split(';')[0]+'/'+imgs[item]).astype(np.float32)\n",
    "                image_resized=cv2.resize(image,(self.image_height,self.image_width))\n",
    "            \n",
    "                #normalizing the images\n",
    "                batch_data[folder,idx,:,:,0] = (image_resized[:,:,0])/255\n",
    "                batch_data[folder,idx,:,:,1] = (image_resized[:,:,1])/255\n",
    "                batch_data[folder,idx,:,:,2] = (image_resized[:,:,2])/255\n",
    "            \n",
    "                if (augment):\n",
    "                    shifted = cv2.warpAffine(image, \n",
    "                                             np.float32([[1, 0, np.random.randint(-30,30)],[0, 1, np.random.randint(-30,30)]]), \n",
    "                                            (image.shape[1], image.shape[0]))\n",
    "                    \n",
    "                    gray = cv2.cvtColor(shifted,cv2.COLOR_BGR2GRAY)\n",
    "\n",
    "                    x0, y0 = np.argwhere(gray > 0).min(axis=0)\n",
    "                    x1, y1 = np.argwhere(gray > 0).max(axis=0) \n",
    "                    # cropping the images to have the targeted gestures and remove the noise from the images.\n",
    "                    image_resized=cv2.resize((self.image_height,self.image_width))\n",
    "            \n",
    "                    batch_data_aug[folder,idx,:,:,0] = (image_resized[:,:,0])/255\n",
    "                    batch_data_aug[folder,idx,:,:,1] = (image_resized[:,:,1])/255\n",
    "                    batch_data_aug[folder,idx,:,:,2] = (image_resized[:,:,2])/255\n",
    "                \n",
    "            \n",
    "            batch_labels[folder, int(t[folder + (batch*batch_size)].strip().split(';')[2])] = 1\n",
    "            \n",
    "    \n",
    "        if (augment):\n",
    "            batch_data=np.concatenate([batch_data,batch_data_aug])\n",
    "            batch_labels=np.concatenate([batch_labels,batch_labels])\n",
    "\n",
    "        \n",
    "        return(batch_data,batch_labels)\n",
    "    \n",
    "    \n",
    "    def train_model(self, model, augment_data=False):\n",
    "        train_generator = self.generator(self.train_path, self.train_doc,augment=augment_data)\n",
    "        val_generator = self.generator(self.val_path, self.val_doc)\n",
    "\n",
    "        model_name = 'model_init' + '_' + str(datetime.datetime.now()).replace(' ','').replace(':','_') + '/'\n",
    "    \n",
    "        if not os.path.exists(model_name):\n",
    "            os.mkdir(model_name)\n",
    "        \n",
    "        filepath = model_name + 'model-{epoch:05d}-{loss:.5f}-{categorical_accuracy:.5f}-{val_loss:.5f}-{val_categorical_accuracy:.5f}.h5'\n",
    "\n",
    "        checkpoint = ModelCheckpoint(filepath, monitor='val_loss', verbose=1, save_best_only=True, save_weights_only=False, mode='auto', period=1)\n",
    "        LR = ReduceLROnPlateau(monitor='val_loss', factor=0.2, verbose=1, patience=4)\n",
    "        \n",
    "        earlystop = EarlyStopping( monitor=\"val_loss\", min_delta=0,patience=10,verbose=1)\n",
    "        callbacks_list = [checkpoint, LR, earlystop]\n",
    "\n",
    "        if (self.num_train_sequences%self.batch_size) == 0:\n",
    "            steps_per_epoch = int(self.num_train_sequences/self.batch_size)\n",
    "        else:\n",
    "            steps_per_epoch = (self.num_train_sequences//self.batch_size) + 1\n",
    "\n",
    "        if (self.num_val_sequences%self.batch_size) == 0:\n",
    "            validation_steps = int(self.num_val_sequences/self.batch_size)\n",
    "        else:\n",
    "            validation_steps = (self.num_val_sequences//self.batch_size) + 1\n",
    "    \n",
    "        history=model.fit_generator(train_generator, steps_per_epoch=steps_per_epoch, epochs=self.num_epochs, verbose=1, \n",
    "                            callbacks=callbacks_list, validation_data=val_generator, \n",
    "                            validation_steps=validation_steps, class_weight=None, workers=1, initial_epoch=0)\n",
    "        return history\n",
    "\n",
    "        \n",
    "    @abc.abstractmethod\n",
    "    def define_model(self):\n",
    "        pass"
   ]
  },
  {
   "cell_type": "code",
   "execution_count": 10,
   "metadata": {},
   "outputs": [],
   "source": [
    "# function to plot the training/validation accuracies/losses.\n",
    "\n",
    "def plot(history):\n",
    "    fig, axes = plt.subplots(nrows=1, ncols=2, figsize=(15,4))\n",
    "    axes[0].plot(history.history['loss'])   \n",
    "    axes[0].plot(history.history['val_loss'])\n",
    "    axes[0].legend(['loss','val_loss'])\n",
    "    axes[1].plot(history.history['categorical_accuracy'])   \n",
    "    axes[1].plot(history.history['val_categorical_accuracy'])\n",
    "    axes[1].legend(['categorical_accuracy','val_categorical_accuracy'])"
   ]
  },
  {
   "cell_type": "markdown",
   "metadata": {},
   "source": [
    "Note here that a video is represented above in the generator as (number of images, height, width, number of channels). Take this into consideration while creating the model architecture."
   ]
  },
  {
   "cell_type": "markdown",
   "metadata": {},
   "source": [
    "## Model\n",
    "Here you make the model using different functionalities that Keras provides. Remember to use `Conv3D` and `MaxPooling3D` and not `Conv2D` and `Maxpooling2D` for a 3D convolution model. You would want to use `TimeDistributed` while building a Conv2D + RNN model. Also remember that the last layer is the softmax. Design the network in such a way that the model is able to give good accuracy on the least number of parameters so that it can fit in the memory of the webcam."
   ]
  },
  {
   "cell_type": "markdown",
   "metadata": {},
   "source": [
    "### Initial Base Model"
   ]
  },
  {
   "cell_type": "markdown",
   "metadata": {},
   "source": [
    "Creating a base model with Conv3D, \"Relu\" activation function."
   ]
  },
  {
   "cell_type": "code",
   "execution_count": 11,
   "metadata": {},
   "outputs": [],
   "source": [
    "#write your model here\n",
    "class ModelConv3D1(ModelBuilder):\n",
    "    \n",
    "    def define_model(self):\n",
    "\n",
    "        model = Sequential()\n",
    "        model.add(Conv3D(16, (3, 3, 3), padding='same',\n",
    "                 input_shape=(self.frames_to_sample,self.image_height,self.image_width,self.channels)))\n",
    "        model.add(Activation('relu'))\n",
    "        model.add(BatchNormalization())\n",
    "        model.add(MaxPooling3D(pool_size=(2, 2, 2)))\n",
    "\n",
    "        model.add(Conv3D(32, (2, 2, 2), padding='same'))\n",
    "        model.add(Activation('relu'))\n",
    "        model.add(BatchNormalization())\n",
    "        model.add(MaxPooling3D(pool_size=(2, 2, 2)))\n",
    "\n",
    "        model.add(Conv3D(64, (2, 2, 2), padding='same'))\n",
    "        model.add(Activation('relu'))\n",
    "        model.add(BatchNormalization())\n",
    "        model.add(MaxPooling3D(pool_size=(2, 2, 2)))\n",
    "\n",
    "        model.add(Conv3D(128, (2, 2, 2), padding='same'))\n",
    "        model.add(Activation('relu'))\n",
    "        model.add(BatchNormalization())\n",
    "        model.add(MaxPooling3D(pool_size=(2, 2, 2)))\n",
    "\n",
    "        model.add(Flatten())\n",
    "        model.add(Dense(128,activation='relu'))\n",
    "        model.add(BatchNormalization())\n",
    "        model.add(Dropout(0.5))\n",
    "\n",
    "        model.add(Dense(64,activation='relu'))\n",
    "        model.add(BatchNormalization())\n",
    "        model.add(Dropout(0.25))\n",
    "\n",
    "        model.add(Dense(self.num_classes,activation='softmax'))\n",
    "        \n",
    "        optimiser = tf.optimizers.Adam()\n",
    "        model.compile(optimizer=optimiser, loss='categorical_crossentropy', metrics=['categorical_accuracy'])\n",
    "        return model"
   ]
  },
  {
   "cell_type": "markdown",
   "metadata": {},
   "source": [
    "Using Batch size: 60; Epochs: 10 caused ResourceExhaustedError. Trying out with better numbers now."
   ]
  },
  {
   "cell_type": "markdown",
   "metadata": {},
   "source": [
    "### Model1 - Batch size: 10; Epochs: 1"
   ]
  },
  {
   "cell_type": "code",
   "execution_count": 12,
   "metadata": {},
   "outputs": [
    {
     "name": "stdout",
     "output_type": "stream",
     "text": [
      "Model: \"sequential\"\n",
      "_________________________________________________________________\n",
      "Layer (type)                 Output Shape              Param #   \n",
      "=================================================================\n",
      "conv3d (Conv3D)              (None, 30, 160, 160, 16)  1312      \n",
      "_________________________________________________________________\n",
      "activation (Activation)      (None, 30, 160, 160, 16)  0         \n",
      "_________________________________________________________________\n",
      "batch_normalization (BatchNo (None, 30, 160, 160, 16)  64        \n",
      "_________________________________________________________________\n",
      "max_pooling3d (MaxPooling3D) (None, 15, 80, 80, 16)    0         \n",
      "_________________________________________________________________\n",
      "conv3d_1 (Conv3D)            (None, 15, 80, 80, 32)    4128      \n",
      "_________________________________________________________________\n",
      "activation_1 (Activation)    (None, 15, 80, 80, 32)    0         \n",
      "_________________________________________________________________\n",
      "batch_normalization_1 (Batch (None, 15, 80, 80, 32)    128       \n",
      "_________________________________________________________________\n",
      "max_pooling3d_1 (MaxPooling3 (None, 7, 40, 40, 32)     0         \n",
      "_________________________________________________________________\n",
      "conv3d_2 (Conv3D)            (None, 7, 40, 40, 64)     16448     \n",
      "_________________________________________________________________\n",
      "activation_2 (Activation)    (None, 7, 40, 40, 64)     0         \n",
      "_________________________________________________________________\n",
      "batch_normalization_2 (Batch (None, 7, 40, 40, 64)     256       \n",
      "_________________________________________________________________\n",
      "max_pooling3d_2 (MaxPooling3 (None, 3, 20, 20, 64)     0         \n",
      "_________________________________________________________________\n",
      "conv3d_3 (Conv3D)            (None, 3, 20, 20, 128)    65664     \n",
      "_________________________________________________________________\n",
      "activation_3 (Activation)    (None, 3, 20, 20, 128)    0         \n",
      "_________________________________________________________________\n",
      "batch_normalization_3 (Batch (None, 3, 20, 20, 128)    512       \n",
      "_________________________________________________________________\n",
      "max_pooling3d_3 (MaxPooling3 (None, 1, 10, 10, 128)    0         \n",
      "_________________________________________________________________\n",
      "flatten (Flatten)            (None, 12800)             0         \n",
      "_________________________________________________________________\n",
      "dense (Dense)                (None, 128)               1638528   \n",
      "_________________________________________________________________\n",
      "batch_normalization_4 (Batch (None, 128)               512       \n",
      "_________________________________________________________________\n",
      "dropout (Dropout)            (None, 128)               0         \n",
      "_________________________________________________________________\n",
      "dense_1 (Dense)              (None, 64)                8256      \n",
      "_________________________________________________________________\n",
      "batch_normalization_5 (Batch (None, 64)                256       \n",
      "_________________________________________________________________\n",
      "dropout_1 (Dropout)          (None, 64)                0         \n",
      "_________________________________________________________________\n",
      "dense_2 (Dense)              (None, 5)                 325       \n",
      "=================================================================\n",
      "Total params: 1,736,389\n",
      "Trainable params: 1,735,525\n",
      "Non-trainable params: 864\n",
      "_________________________________________________________________\n"
     ]
    }
   ],
   "source": [
    "conv_3d1=ModelConv3D1()\n",
    "conv_3d1.initialize_path(project_folder)\n",
    "conv_3d1.initialize_image_properties(image_height=160,image_width=160)\n",
    "conv_3d1.initialize_hyperparams(frames_to_sample=30,batch_size=10,num_epochs=1)\n",
    "conv_3d1_model=conv_3d1.define_model()\n",
    "conv_3d1_model.summary()"
   ]
  },
  {
   "cell_type": "code",
   "execution_count": 13,
   "metadata": {},
   "outputs": [
    {
     "name": "stdout",
     "output_type": "stream",
     "text": [
      "Total Params: 1736389\n",
      "WARNING:tensorflow:`period` argument is deprecated. Please use `save_freq` to specify the frequency in number of batches seen.\n",
      "67/67 [==============================] - 179s 3s/step - loss: 2.0746 - categorical_accuracy: 0.2766 - val_loss: 7.8463 - val_categorical_accuracy: 0.1600\n",
      "\n",
      "Epoch 00001: val_loss improved from inf to 7.84634, saving model to model_init_2022-05-0612_13_02.918053/model-00001-1.76668-0.34238-7.84634-0.16000.h5\n"
     ]
    }
   ],
   "source": [
    "print(\"Total Params:\", conv_3d1_model.count_params())\n",
    "history_model1 = conv_3d1.train_model(conv_3d1_model)"
   ]
  },
  {
   "cell_type": "markdown",
   "metadata": {},
   "source": [
    "#### OBSERVATION\n",
    "Model has not learnt much and therefore has poor training accuracy of 27% whereas validation accuracy is of 16%"
   ]
  },
  {
   "cell_type": "code",
   "execution_count": 14,
   "metadata": {},
   "outputs": [
    {
     "name": "stdout",
     "output_type": "stream",
     "text": [
      "Memory util is 3.662109524011612 Gigs\n"
     ]
    }
   ],
   "source": [
    "print(\"Memory util is {} Gigs\". format(getsizeof(np.zeros((40,16,30,160,160)))/(1024*1024*1024)))"
   ]
  },
  {
   "cell_type": "markdown",
   "metadata": {},
   "source": [
    "### Model2 - Batch Size: 20; Epochs: 25"
   ]
  },
  {
   "cell_type": "markdown",
   "metadata": {},
   "source": [
    "Increasing No. of epochs and decreasing Batch size to improve model performance and decreasing GPU load."
   ]
  },
  {
   "cell_type": "code",
   "execution_count": 15,
   "metadata": {},
   "outputs": [
    {
     "name": "stdout",
     "output_type": "stream",
     "text": [
      "Model: \"sequential_1\"\n",
      "_________________________________________________________________\n",
      "Layer (type)                 Output Shape              Param #   \n",
      "=================================================================\n",
      "conv3d_4 (Conv3D)            (None, 20, 160, 160, 16)  1312      \n",
      "_________________________________________________________________\n",
      "activation_4 (Activation)    (None, 20, 160, 160, 16)  0         \n",
      "_________________________________________________________________\n",
      "batch_normalization_6 (Batch (None, 20, 160, 160, 16)  64        \n",
      "_________________________________________________________________\n",
      "max_pooling3d_4 (MaxPooling3 (None, 10, 80, 80, 16)    0         \n",
      "_________________________________________________________________\n",
      "conv3d_5 (Conv3D)            (None, 10, 80, 80, 32)    4128      \n",
      "_________________________________________________________________\n",
      "activation_5 (Activation)    (None, 10, 80, 80, 32)    0         \n",
      "_________________________________________________________________\n",
      "batch_normalization_7 (Batch (None, 10, 80, 80, 32)    128       \n",
      "_________________________________________________________________\n",
      "max_pooling3d_5 (MaxPooling3 (None, 5, 40, 40, 32)     0         \n",
      "_________________________________________________________________\n",
      "conv3d_6 (Conv3D)            (None, 5, 40, 40, 64)     16448     \n",
      "_________________________________________________________________\n",
      "activation_6 (Activation)    (None, 5, 40, 40, 64)     0         \n",
      "_________________________________________________________________\n",
      "batch_normalization_8 (Batch (None, 5, 40, 40, 64)     256       \n",
      "_________________________________________________________________\n",
      "max_pooling3d_6 (MaxPooling3 (None, 2, 20, 20, 64)     0         \n",
      "_________________________________________________________________\n",
      "conv3d_7 (Conv3D)            (None, 2, 20, 20, 128)    65664     \n",
      "_________________________________________________________________\n",
      "activation_7 (Activation)    (None, 2, 20, 20, 128)    0         \n",
      "_________________________________________________________________\n",
      "batch_normalization_9 (Batch (None, 2, 20, 20, 128)    512       \n",
      "_________________________________________________________________\n",
      "max_pooling3d_7 (MaxPooling3 (None, 1, 10, 10, 128)    0         \n",
      "_________________________________________________________________\n",
      "flatten_1 (Flatten)          (None, 12800)             0         \n",
      "_________________________________________________________________\n",
      "dense_3 (Dense)              (None, 128)               1638528   \n",
      "_________________________________________________________________\n",
      "batch_normalization_10 (Batc (None, 128)               512       \n",
      "_________________________________________________________________\n",
      "dropout_2 (Dropout)          (None, 128)               0         \n",
      "_________________________________________________________________\n",
      "dense_4 (Dense)              (None, 64)                8256      \n",
      "_________________________________________________________________\n",
      "batch_normalization_11 (Batc (None, 64)                256       \n",
      "_________________________________________________________________\n",
      "dropout_3 (Dropout)          (None, 64)                0         \n",
      "_________________________________________________________________\n",
      "dense_5 (Dense)              (None, 5)                 325       \n",
      "=================================================================\n",
      "Total params: 1,736,389\n",
      "Trainable params: 1,735,525\n",
      "Non-trainable params: 864\n",
      "_________________________________________________________________\n"
     ]
    }
   ],
   "source": [
    "conv_3d2=ModelConv3D1()\n",
    "conv_3d2.initialize_path(project_folder)\n",
    "conv_3d2.initialize_image_properties(image_height=160,image_width=160)\n",
    "conv_3d2.initialize_hyperparams(frames_to_sample=20,batch_size=20,num_epochs=25)\n",
    "conv_3d2_model=conv_3d2.define_model()\n",
    "conv_3d2_model.summary()"
   ]
  },
  {
   "cell_type": "code",
   "execution_count": 16,
   "metadata": {},
   "outputs": [
    {
     "name": "stdout",
     "output_type": "stream",
     "text": [
      "Total Params: 1736389\n",
      "WARNING:tensorflow:`period` argument is deprecated. Please use `save_freq` to specify the frequency in number of batches seen.\n",
      "Epoch 1/25\n",
      "34/34 [==============================] - 56s 2s/step - loss: 1.8454 - categorical_accuracy: 0.3502 - val_loss: 3.3877 - val_categorical_accuracy: 0.2100\n",
      "\n",
      "Epoch 00001: val_loss improved from inf to 3.38766, saving model to model_init_2022-05-0612_16_04.406630/model-00001-1.60254-0.40724-3.38766-0.21000.h5\n",
      "Epoch 2/25\n",
      "34/34 [==============================] - 54s 2s/step - loss: 1.1578 - categorical_accuracy: 0.5594 - val_loss: 7.4516 - val_categorical_accuracy: 0.1900\n",
      "\n",
      "Epoch 00002: val_loss did not improve from 3.38766\n",
      "Epoch 3/25\n",
      "34/34 [==============================] - 55s 2s/step - loss: 0.8662 - categorical_accuracy: 0.6773 - val_loss: 8.0925 - val_categorical_accuracy: 0.2200\n",
      "\n",
      "Epoch 00003: val_loss did not improve from 3.38766\n",
      "Epoch 4/25\n",
      "34/34 [==============================] - 55s 2s/step - loss: 0.7113 - categorical_accuracy: 0.7319 - val_loss: 9.6394 - val_categorical_accuracy: 0.2100\n",
      "\n",
      "Epoch 00004: val_loss did not improve from 3.38766\n",
      "Epoch 5/25\n",
      "34/34 [==============================] - 54s 2s/step - loss: 0.6187 - categorical_accuracy: 0.7629 - val_loss: 11.8158 - val_categorical_accuracy: 0.2300\n",
      "\n",
      "Epoch 00005: val_loss did not improve from 3.38766\n",
      "\n",
      "Epoch 00005: ReduceLROnPlateau reducing learning rate to 0.00020000000949949026.\n",
      "Epoch 6/25\n",
      "34/34 [==============================] - 55s 2s/step - loss: 0.5609 - categorical_accuracy: 0.7953 - val_loss: 11.1979 - val_categorical_accuracy: 0.2100\n",
      "\n",
      "Epoch 00006: val_loss did not improve from 3.38766\n",
      "Epoch 7/25\n",
      "34/34 [==============================] - 54s 2s/step - loss: 0.4647 - categorical_accuracy: 0.8431 - val_loss: 7.9759 - val_categorical_accuracy: 0.2400\n",
      "\n",
      "Epoch 00007: val_loss did not improve from 3.38766\n",
      "Epoch 8/25\n",
      "34/34 [==============================] - 55s 2s/step - loss: 0.3586 - categorical_accuracy: 0.8818 - val_loss: 7.5498 - val_categorical_accuracy: 0.2300\n",
      "\n",
      "Epoch 00008: val_loss did not improve from 3.38766\n",
      "Epoch 9/25\n",
      "34/34 [==============================] - 54s 2s/step - loss: 0.3586 - categorical_accuracy: 0.8739 - val_loss: 6.0803 - val_categorical_accuracy: 0.2800\n",
      "\n",
      "Epoch 00009: val_loss did not improve from 3.38766\n",
      "\n",
      "Epoch 00009: ReduceLROnPlateau reducing learning rate to 4.0000001899898055e-05.\n",
      "Epoch 10/25\n",
      "34/34 [==============================] - 54s 2s/step - loss: 0.3326 - categorical_accuracy: 0.8751 - val_loss: 4.8816 - val_categorical_accuracy: 0.3600\n",
      "\n",
      "Epoch 00010: val_loss did not improve from 3.38766\n",
      "Epoch 11/25\n",
      "34/34 [==============================] - 54s 2s/step - loss: 0.2867 - categorical_accuracy: 0.9037 - val_loss: 4.6267 - val_categorical_accuracy: 0.3100\n",
      "\n",
      "Epoch 00011: val_loss did not improve from 3.38766\n",
      "Epoch 00011: early stopping\n"
     ]
    }
   ],
   "source": [
    "print(\"Total Params:\", conv_3d2_model.count_params())\n",
    "history_model2=conv_3d2.train_model(conv_3d2_model)"
   ]
  },
  {
   "cell_type": "code",
   "execution_count": 17,
   "metadata": {},
   "outputs": [
    {
     "data": {
      "image/png": "[encoded data removed]",
      "text/plain": [
       "<Figure size 1080x288 with 2 Axes>"
      ]
     },
     "metadata": {
      "needs_background": "light"
     },
     "output_type": "display_data"
    }
   ],
   "source": [
    "plot(history_model2)"
   ]
  },
  {
   "cell_type": "markdown",
   "metadata": {},
   "source": [
    "#### OBSERVATION\n",
    "- From above graph we can see that model is overfitting.\n",
    "  1. Categorical accuracy is 90% whereas validation accuracy is 31%.\n",
    "  2. Validation loss is much higher than categorical loss.\n",
    "- Let's introduce regularization(dropout) technique to improve model performance."
   ]
  },
  {
   "cell_type": "markdown",
   "metadata": {},
   "source": [
    "### Model 3 - Adding Dropout"
   ]
  },
  {
   "cell_type": "code",
   "execution_count": 18,
   "metadata": {},
   "outputs": [],
   "source": [
    "class ModelConv3D4(ModelBuilder):\n",
    "    \n",
    "    def define_model(self,filtersize=(3,3,3),dense_neurons=64,dropout=0.25):\n",
    "\n",
    "        model = Sequential()\n",
    "        model.add(Conv3D(16, filtersize, padding='same',\n",
    "                 input_shape=(self.frames_to_sample,self.image_height,self.image_width,self.channels)))\n",
    "        model.add(Activation('relu'))\n",
    "        model.add(BatchNormalization())\n",
    "        \n",
    "        model.add(Conv3D(16, filtersize, padding='same',\n",
    "                 input_shape=(self.frames_to_sample,self.image_height,self.image_width,self.channels)))\n",
    "        model.add(Activation('relu'))\n",
    "        model.add(BatchNormalization())\n",
    "        \n",
    "        model.add(MaxPooling3D(pool_size=(2, 2, 2)))\n",
    "\n",
    "        model.add(Conv3D(32, filtersize, padding='same'))\n",
    "        model.add(Activation('relu'))\n",
    "        model.add(BatchNormalization())\n",
    "        \n",
    "        model.add(Conv3D(32, filtersize, padding='same'))\n",
    "        model.add(Activation('relu'))\n",
    "        model.add(BatchNormalization())\n",
    "        \n",
    "        model.add(MaxPooling3D(pool_size=(2, 2, 2)))\n",
    "\n",
    "        model.add(Conv3D(64, filtersize, padding='same'))\n",
    "        model.add(Activation('relu'))\n",
    "        model.add(BatchNormalization())\n",
    "        \n",
    "        model.add(Conv3D(64, filtersize, padding='same'))\n",
    "        model.add(Activation('relu'))\n",
    "        model.add(BatchNormalization())\n",
    "        \n",
    "        model.add(MaxPooling3D(pool_size=(2, 2, 2)))\n",
    "\n",
    "        model.add(Conv3D(128, filtersize, padding='same'))\n",
    "        model.add(Activation('relu'))\n",
    "        model.add(BatchNormalization())\n",
    "        \n",
    "        model.add(Conv3D(128, filtersize, padding='same'))\n",
    "        model.add(Activation('relu'))\n",
    "        model.add(BatchNormalization())\n",
    "        \n",
    "        model.add(MaxPooling3D(pool_size=(2, 2, 2)))\n",
    "        \n",
    "\n",
    "        model.add(Flatten())\n",
    "        model.add(Dense(dense_neurons,activation='relu'))\n",
    "        model.add(BatchNormalization())\n",
    "        model.add(Dropout(dropout))\n",
    "\n",
    "        model.add(Dense(dense_neurons,activation='relu'))\n",
    "        model.add(BatchNormalization())\n",
    "        model.add(Dropout(dropout))\n",
    "\n",
    "\n",
    "        model.add(Dense(self.num_classes,activation='softmax'))\n",
    "\n",
    "        optimiser = tf.optimizers.Adam()\n",
    "        model.compile(optimizer=optimiser, loss='categorical_crossentropy', metrics=['categorical_accuracy'])\n",
    "        return model"
   ]
  },
  {
   "cell_type": "code",
   "execution_count": 19,
   "metadata": {},
   "outputs": [
    {
     "name": "stdout",
     "output_type": "stream",
     "text": [
      "Model: \"sequential_2\"\n",
      "_________________________________________________________________\n",
      "Layer (type)                 Output Shape              Param #   \n",
      "=================================================================\n",
      "conv3d_8 (Conv3D)            (None, 16, 120, 120, 16)  1312      \n",
      "_________________________________________________________________\n",
      "activation_8 (Activation)    (None, 16, 120, 120, 16)  0         \n",
      "_________________________________________________________________\n",
      "batch_normalization_12 (Batc (None, 16, 120, 120, 16)  64        \n",
      "_________________________________________________________________\n",
      "conv3d_9 (Conv3D)            (None, 16, 120, 120, 16)  6928      \n",
      "_________________________________________________________________\n",
      "activation_9 (Activation)    (None, 16, 120, 120, 16)  0         \n",
      "_________________________________________________________________\n",
      "batch_normalization_13 (Batc (None, 16, 120, 120, 16)  64        \n",
      "_________________________________________________________________\n",
      "max_pooling3d_8 (MaxPooling3 (None, 8, 60, 60, 16)     0         \n",
      "_________________________________________________________________\n",
      "conv3d_10 (Conv3D)           (None, 8, 60, 60, 32)     13856     \n",
      "_________________________________________________________________\n",
      "activation_10 (Activation)   (None, 8, 60, 60, 32)     0         \n",
      "_________________________________________________________________\n",
      "batch_normalization_14 (Batc (None, 8, 60, 60, 32)     128       \n",
      "_________________________________________________________________\n",
      "conv3d_11 (Conv3D)           (None, 8, 60, 60, 32)     27680     \n",
      "_________________________________________________________________\n",
      "activation_11 (Activation)   (None, 8, 60, 60, 32)     0         \n",
      "_________________________________________________________________\n",
      "batch_normalization_15 (Batc (None, 8, 60, 60, 32)     128       \n",
      "_________________________________________________________________\n",
      "max_pooling3d_9 (MaxPooling3 (None, 4, 30, 30, 32)     0         \n",
      "_________________________________________________________________\n",
      "conv3d_12 (Conv3D)           (None, 4, 30, 30, 64)     55360     \n",
      "_________________________________________________________________\n",
      "activation_12 (Activation)   (None, 4, 30, 30, 64)     0         \n",
      "_________________________________________________________________\n",
      "batch_normalization_16 (Batc (None, 4, 30, 30, 64)     256       \n",
      "_________________________________________________________________\n",
      "conv3d_13 (Conv3D)           (None, 4, 30, 30, 64)     110656    \n",
      "_________________________________________________________________\n",
      "activation_13 (Activation)   (None, 4, 30, 30, 64)     0         \n",
      "_________________________________________________________________\n",
      "batch_normalization_17 (Batc (None, 4, 30, 30, 64)     256       \n",
      "_________________________________________________________________\n",
      "max_pooling3d_10 (MaxPooling (None, 2, 15, 15, 64)     0         \n",
      "_________________________________________________________________\n",
      "conv3d_14 (Conv3D)           (None, 2, 15, 15, 128)    221312    \n",
      "_________________________________________________________________\n",
      "activation_14 (Activation)   (None, 2, 15, 15, 128)    0         \n",
      "_________________________________________________________________\n",
      "batch_normalization_18 (Batc (None, 2, 15, 15, 128)    512       \n",
      "_________________________________________________________________\n",
      "conv3d_15 (Conv3D)           (None, 2, 15, 15, 128)    442496    \n",
      "_________________________________________________________________\n",
      "activation_15 (Activation)   (None, 2, 15, 15, 128)    0         \n",
      "_________________________________________________________________\n",
      "batch_normalization_19 (Batc (None, 2, 15, 15, 128)    512       \n",
      "_________________________________________________________________\n",
      "max_pooling3d_11 (MaxPooling (None, 1, 7, 7, 128)      0         \n",
      "_________________________________________________________________\n",
      "flatten_2 (Flatten)          (None, 6272)              0         \n",
      "_________________________________________________________________\n",
      "dense_6 (Dense)              (None, 256)               1605888   \n",
      "_________________________________________________________________\n",
      "batch_normalization_20 (Batc (None, 256)               1024      \n",
      "_________________________________________________________________\n",
      "dropout_4 (Dropout)          (None, 256)               0         \n",
      "_________________________________________________________________\n",
      "dense_7 (Dense)              (None, 256)               65792     \n",
      "_________________________________________________________________\n",
      "batch_normalization_21 (Batc (None, 256)               1024      \n",
      "_________________________________________________________________\n",
      "dropout_5 (Dropout)          (None, 256)               0         \n",
      "_________________________________________________________________\n",
      "dense_8 (Dense)              (None, 5)                 1285      \n",
      "=================================================================\n",
      "Total params: 2,556,533\n",
      "Trainable params: 2,554,549\n",
      "Non-trainable params: 1,984\n",
      "_________________________________________________________________\n"
     ]
    }
   ],
   "source": [
    "conv_3d4=ModelConv3D4()\n",
    "conv_3d4.initialize_path(project_folder)\n",
    "conv_3d4.initialize_image_properties(image_height=120,image_width=120)\n",
    "conv_3d4.initialize_hyperparams(frames_to_sample=16,batch_size=30,num_epochs=25)\n",
    "conv_3d4_model=conv_3d4.define_model(filtersize=(3,3,3),dense_neurons=256,dropout=0.5)\n",
    "conv_3d4_model.summary()"
   ]
  },
  {
   "cell_type": "code",
   "execution_count": 20,
   "metadata": {},
   "outputs": [
    {
     "name": "stdout",
     "output_type": "stream",
     "text": [
      "Total Params: 2556533\n",
      "WARNING:tensorflow:`period` argument is deprecated. Please use `save_freq` to specify the frequency in number of batches seen.\n",
      "Epoch 1/25\n",
      "23/23 [==============================] - 39s 2s/step - loss: 2.2094 - categorical_accuracy: 0.3040 - val_loss: 1.6461 - val_categorical_accuracy: 0.3200\n",
      "\n",
      "Epoch 00001: val_loss improved from inf to 1.64606, saving model to model_init_2022-05-0612_26_06.710325/model-00001-1.96293-0.35596-1.64606-0.32000.h5\n",
      "Epoch 2/25\n",
      "23/23 [==============================] - 35s 2s/step - loss: 1.5920 - categorical_accuracy: 0.4800 - val_loss: 2.6928 - val_categorical_accuracy: 0.1800\n",
      "\n",
      "Epoch 00002: val_loss did not improve from 1.64606\n",
      "Epoch 3/25\n",
      "23/23 [==============================] - 35s 2s/step - loss: 1.5835 - categorical_accuracy: 0.4501 - val_loss: 3.0789 - val_categorical_accuracy: 0.2000\n",
      "\n",
      "Epoch 00003: val_loss did not improve from 1.64606\n",
      "Epoch 4/25\n",
      "23/23 [==============================] - 34s 2s/step - loss: 1.6229 - categorical_accuracy: 0.4505 - val_loss: 2.3751 - val_categorical_accuracy: 0.2400\n",
      "\n",
      "Epoch 00004: val_loss did not improve from 1.64606\n",
      "Epoch 5/25\n",
      "23/23 [==============================] - 34s 2s/step - loss: 1.4404 - categorical_accuracy: 0.4699 - val_loss: 4.2839 - val_categorical_accuracy: 0.2500\n",
      "\n",
      "Epoch 00005: val_loss did not improve from 1.64606\n",
      "\n",
      "Epoch 00005: ReduceLROnPlateau reducing learning rate to 0.00020000000949949026.\n",
      "Epoch 6/25\n",
      "23/23 [==============================] - 35s 2s/step - loss: 1.3465 - categorical_accuracy: 0.5140 - val_loss: 3.9244 - val_categorical_accuracy: 0.1900\n",
      "\n",
      "Epoch 00006: val_loss did not improve from 1.64606\n",
      "Epoch 7/25\n",
      "23/23 [==============================] - 35s 2s/step - loss: 1.1101 - categorical_accuracy: 0.5942 - val_loss: 2.9001 - val_categorical_accuracy: 0.2400\n",
      "\n",
      "Epoch 00007: val_loss did not improve from 1.64606\n",
      "Epoch 8/25\n",
      "23/23 [==============================] - 34s 2s/step - loss: 1.4539 - categorical_accuracy: 0.4753 - val_loss: 2.4939 - val_categorical_accuracy: 0.3300\n",
      "\n",
      "Epoch 00008: val_loss did not improve from 1.64606\n",
      "Epoch 9/25\n",
      "23/23 [==============================] - 35s 2s/step - loss: 1.1920 - categorical_accuracy: 0.5157 - val_loss: 2.6854 - val_categorical_accuracy: 0.2600\n",
      "\n",
      "Epoch 00009: val_loss did not improve from 1.64606\n",
      "\n",
      "Epoch 00009: ReduceLROnPlateau reducing learning rate to 4.0000001899898055e-05.\n",
      "Epoch 10/25\n",
      "23/23 [==============================] - 35s 2s/step - loss: 1.2391 - categorical_accuracy: 0.5662 - val_loss: 2.6901 - val_categorical_accuracy: 0.3000\n",
      "\n",
      "Epoch 00010: val_loss did not improve from 1.64606\n",
      "Epoch 11/25\n",
      "23/23 [==============================] - 35s 2s/step - loss: 1.1736 - categorical_accuracy: 0.5511 - val_loss: 2.3324 - val_categorical_accuracy: 0.2900\n",
      "\n",
      "Epoch 00011: val_loss did not improve from 1.64606\n",
      "Epoch 00011: early stopping\n"
     ]
    }
   ],
   "source": [
    "print(\"Total Params:\", conv_3d4_model.count_params())\n",
    "history_model3=conv_3d4.train_model(conv_3d4_model)"
   ]
  },
  {
   "cell_type": "code",
   "execution_count": 21,
   "metadata": {
    "scrolled": true
   },
   "outputs": [
    {
     "data": {
      "image/png": "[encoded data removed]",
      "text/plain": [
       "<Figure size 1080x288 with 2 Axes>"
      ]
     },
     "metadata": {
      "needs_background": "light"
     },
     "output_type": "display_data"
    }
   ],
   "source": [
    "plot(history_model3)"
   ]
  },
  {
   "cell_type": "markdown",
   "metadata": {},
   "source": [
    "#### OBSERVATION\n",
    "- From above graph we can see that model is still overfitting.\n",
    "  1. Difference between categorical accuracy and validation accuracy has reduced compared to previous model. However, its still not good enough.\n",
    "  2. Validation loss is much higher than categorical loss. \n",
    "- Using just CNN is not showing much improvement. Let's try some RNN models along with CNN.  "
   ]
  },
  {
   "cell_type": "markdown",
   "metadata": {},
   "source": [
    "### Model 4 - CNN + LSTM Model"
   ]
  },
  {
   "cell_type": "markdown",
   "metadata": {},
   "source": [
    "Long Short Term Memory networks – usually just called “LSTMs” – are a special kind of RNN, capable of learning long-term dependencies. Let's see it helps in improving our model performance."
   ]
  },
  {
   "cell_type": "code",
   "execution_count": 22,
   "metadata": {},
   "outputs": [],
   "source": [
    "class RNNCNN1(ModelBuilder):\n",
    "    \n",
    "    def define_model(self,lstm_cells=64,dense_neurons=64,dropout=0.25):\n",
    "\n",
    "        model = Sequential()\n",
    "\n",
    "        model.add(TimeDistributed(Conv2D(16, (3, 3) , padding='same', activation='relu'),\n",
    "                                  input_shape=(self.frames_to_sample,self.image_height,self.image_width,self.channels)))\n",
    "        model.add(TimeDistributed(BatchNormalization()))\n",
    "        model.add(TimeDistributed(MaxPooling2D((2, 2))))\n",
    "        \n",
    "        model.add(TimeDistributed(Conv2D(32, (3, 3) , padding='same', activation='relu')))\n",
    "        model.add(TimeDistributed(BatchNormalization()))\n",
    "        model.add(TimeDistributed(MaxPooling2D((2, 2))))\n",
    "        \n",
    "        model.add(TimeDistributed(Conv2D(64, (3, 3) , padding='same', activation='relu')))\n",
    "        model.add(TimeDistributed(BatchNormalization()))\n",
    "        model.add(TimeDistributed(MaxPooling2D((2, 2))))\n",
    "        \n",
    "        model.add(TimeDistributed(Conv2D(128, (3, 3) , padding='same', activation='relu')))\n",
    "        model.add(TimeDistributed(BatchNormalization()))\n",
    "        model.add(TimeDistributed(MaxPooling2D((2, 2))))\n",
    "        \n",
    "        model.add(TimeDistributed(Conv2D(256, (3, 3) , padding='same', activation='relu')))\n",
    "        model.add(TimeDistributed(BatchNormalization()))\n",
    "        model.add(TimeDistributed(MaxPooling2D((2, 2))))\n",
    "\n",
    "        model.add(TimeDistributed(Flatten()))\n",
    "\n",
    "        model.add(LSTM(lstm_cells))\n",
    "        model.add(Dropout(dropout))\n",
    "        \n",
    "        model.add(Dense(dense_neurons,activation='relu'))\n",
    "        model.add(Dropout(dropout))\n",
    "        \n",
    "        model.add(Dense(self.num_classes, activation='softmax'))\n",
    "        optimiser = tf.optimizers.Adam()\n",
    "        model.compile(optimizer=optimiser, loss='categorical_crossentropy', metrics=['categorical_accuracy'])\n",
    "        return model"
   ]
  },
  {
   "cell_type": "code",
   "execution_count": 23,
   "metadata": {},
   "outputs": [
    {
     "name": "stdout",
     "output_type": "stream",
     "text": [
      "Model: \"sequential_3\"\n",
      "_________________________________________________________________\n",
      "Layer (type)                 Output Shape              Param #   \n",
      "=================================================================\n",
      "time_distributed (TimeDistri (None, 18, 120, 120, 16)  448       \n",
      "_________________________________________________________________\n",
      "time_distributed_1 (TimeDist (None, 18, 120, 120, 16)  64        \n",
      "_________________________________________________________________\n",
      "time_distributed_2 (TimeDist (None, 18, 60, 60, 16)    0         \n",
      "_________________________________________________________________\n",
      "time_distributed_3 (TimeDist (None, 18, 60, 60, 32)    4640      \n",
      "_________________________________________________________________\n",
      "time_distributed_4 (TimeDist (None, 18, 60, 60, 32)    128       \n",
      "_________________________________________________________________\n",
      "time_distributed_5 (TimeDist (None, 18, 30, 30, 32)    0         \n",
      "_________________________________________________________________\n",
      "time_distributed_6 (TimeDist (None, 18, 30, 30, 64)    18496     \n",
      "_________________________________________________________________\n",
      "time_distributed_7 (TimeDist (None, 18, 30, 30, 64)    256       \n",
      "_________________________________________________________________\n",
      "time_distributed_8 (TimeDist (None, 18, 15, 15, 64)    0         \n",
      "_________________________________________________________________\n",
      "time_distributed_9 (TimeDist (None, 18, 15, 15, 128)   73856     \n",
      "_________________________________________________________________\n",
      "time_distributed_10 (TimeDis (None, 18, 15, 15, 128)   512       \n",
      "_________________________________________________________________\n",
      "time_distributed_11 (TimeDis (None, 18, 7, 7, 128)     0         \n",
      "_________________________________________________________________\n",
      "time_distributed_12 (TimeDis (None, 18, 7, 7, 256)     295168    \n",
      "_________________________________________________________________\n",
      "time_distributed_13 (TimeDis (None, 18, 7, 7, 256)     1024      \n",
      "_________________________________________________________________\n",
      "time_distributed_14 (TimeDis (None, 18, 3, 3, 256)     0         \n",
      "_________________________________________________________________\n",
      "time_distributed_15 (TimeDis (None, 18, 2304)          0         \n",
      "_________________________________________________________________\n",
      "lstm (LSTM)                  (None, 128)               1245696   \n",
      "_________________________________________________________________\n",
      "dropout_6 (Dropout)          (None, 128)               0         \n",
      "_________________________________________________________________\n",
      "dense_9 (Dense)              (None, 128)               16512     \n",
      "_________________________________________________________________\n",
      "dropout_7 (Dropout)          (None, 128)               0         \n",
      "_________________________________________________________________\n",
      "dense_10 (Dense)             (None, 5)                 645       \n",
      "=================================================================\n",
      "Total params: 1,657,445\n",
      "Trainable params: 1,656,453\n",
      "Non-trainable params: 992\n",
      "_________________________________________________________________\n"
     ]
    }
   ],
   "source": [
    "rnn_cnn1=RNNCNN1()\n",
    "rnn_cnn1.initialize_path(project_folder)\n",
    "rnn_cnn1.initialize_image_properties(image_height=120,image_width=120)\n",
    "rnn_cnn1.initialize_hyperparams(frames_to_sample=18,batch_size=20,num_epochs=20)\n",
    "rnn_cnn1_model=rnn_cnn1.define_model(lstm_cells=128,dense_neurons=128,dropout=0.25)\n",
    "rnn_cnn1_model.summary()"
   ]
  },
  {
   "cell_type": "code",
   "execution_count": 24,
   "metadata": {},
   "outputs": [
    {
     "name": "stdout",
     "output_type": "stream",
     "text": [
      "Total Params: 1657445\n",
      "WARNING:tensorflow:`period` argument is deprecated. Please use `save_freq` to specify the frequency in number of batches seen.\n",
      "Epoch 1/20\n",
      "34/34 [==============================] - 41s 1s/step - loss: 1.5430 - categorical_accuracy: 0.2986 - val_loss: 1.8872 - val_categorical_accuracy: 0.2100\n",
      "\n",
      "Epoch 00001: val_loss improved from inf to 1.88720, saving model to model_init_2022-05-0612_32_34.796837/model-00001-1.43455-0.35897-1.88720-0.21000.h5\n",
      "Epoch 2/20\n",
      "34/34 [==============================] - 38s 1s/step - loss: 1.0719 - categorical_accuracy: 0.5847 - val_loss: 2.0247 - val_categorical_accuracy: 0.2100\n",
      "\n",
      "Epoch 00002: val_loss did not improve from 1.88720\n",
      "Epoch 3/20\n",
      "34/34 [==============================] - 38s 1s/step - loss: 0.9456 - categorical_accuracy: 0.6133 - val_loss: 2.4784 - val_categorical_accuracy: 0.1600\n",
      "\n",
      "Epoch 00003: val_loss did not improve from 1.88720\n",
      "Epoch 4/20\n",
      "34/34 [==============================] - 38s 1s/step - loss: 0.7349 - categorical_accuracy: 0.7049 - val_loss: 2.2662 - val_categorical_accuracy: 0.2700\n",
      "\n",
      "Epoch 00004: val_loss did not improve from 1.88720\n",
      "Epoch 5/20\n",
      "34/34 [==============================] - 38s 1s/step - loss: 0.6438 - categorical_accuracy: 0.7406 - val_loss: 2.0164 - val_categorical_accuracy: 0.2100\n",
      "\n",
      "Epoch 00005: val_loss did not improve from 1.88720\n",
      "\n",
      "Epoch 00005: ReduceLROnPlateau reducing learning rate to 0.00020000000949949026.\n",
      "Epoch 6/20\n",
      "34/34 [==============================] - 38s 1s/step - loss: 0.4621 - categorical_accuracy: 0.8329 - val_loss: 2.1539 - val_categorical_accuracy: 0.2100\n",
      "\n",
      "Epoch 00006: val_loss did not improve from 1.88720\n",
      "Epoch 7/20\n",
      "34/34 [==============================] - 38s 1s/step - loss: 0.3890 - categorical_accuracy: 0.8701 - val_loss: 2.0824 - val_categorical_accuracy: 0.2000\n",
      "\n",
      "Epoch 00007: val_loss did not improve from 1.88720\n",
      "Epoch 8/20\n",
      "34/34 [==============================] - 38s 1s/step - loss: 0.2686 - categorical_accuracy: 0.9291 - val_loss: 2.0855 - val_categorical_accuracy: 0.2800\n",
      "\n",
      "Epoch 00008: val_loss did not improve from 1.88720\n",
      "Epoch 9/20\n",
      "34/34 [==============================] - 38s 1s/step - loss: 0.2110 - categorical_accuracy: 0.9456 - val_loss: 2.0941 - val_categorical_accuracy: 0.3100\n",
      "\n",
      "Epoch 00009: val_loss did not improve from 1.88720\n",
      "\n",
      "Epoch 00009: ReduceLROnPlateau reducing learning rate to 4.0000001899898055e-05.\n",
      "Epoch 10/20\n",
      "34/34 [==============================] - 38s 1s/step - loss: 0.1649 - categorical_accuracy: 0.9635 - val_loss: 2.1074 - val_categorical_accuracy: 0.2800\n",
      "\n",
      "Epoch 00010: val_loss did not improve from 1.88720\n",
      "Epoch 11/20\n",
      "34/34 [==============================] - 38s 1s/step - loss: 0.1402 - categorical_accuracy: 0.9801 - val_loss: 2.0551 - val_categorical_accuracy: 0.3900\n",
      "\n",
      "Epoch 00011: val_loss did not improve from 1.88720\n",
      "Epoch 00011: early stopping\n"
     ]
    }
   ],
   "source": [
    "print(\"Total Params:\", rnn_cnn1_model.count_params())\n",
    "history_model4=rnn_cnn1.train_model(rnn_cnn1_model)"
   ]
  },
  {
   "cell_type": "code",
   "execution_count": 25,
   "metadata": {},
   "outputs": [
    {
     "data": {
      "image/png": "[encoded data removed]",
      "text/plain": [
       "<Figure size 1080x288 with 2 Axes>"
      ]
     },
     "metadata": {
      "needs_background": "light"
     },
     "output_type": "display_data"
    }
   ],
   "source": [
    "plot(history_model4)"
   ]
  },
  {
   "cell_type": "markdown",
   "metadata": {},
   "source": [
    "#### OBSERVATION\n",
    "- From above graph we can see that model is still overfitting.\n",
    "  1. Difference between categorical accuracy and validation accuracy has more compared to previous model.\n",
    "  2. Losses have reduced significantly compared to previous model.  "
   ]
  },
  {
   "cell_type": "markdown",
   "metadata": {},
   "source": [
    "### Model 5 - CNN + LSTM + Transfer Learning"
   ]
  },
  {
   "cell_type": "markdown",
   "metadata": {},
   "source": [
    "Transfer learning is a method where we reuse a pre-trained model as the starting point for a model on a new task. Including Transfer learning with LSTM and CNN to enhance model performance"
   ]
  },
  {
   "cell_type": "code",
   "execution_count": 27,
   "metadata": {},
   "outputs": [],
   "source": [
    "# importing the MobileNet model due to it's lightweight architecture and high speed performance as compared \n",
    "# to other heavy-duty models like VGG16, Alexnet, InceptionV3 etc. Also, we are now also running on low disk space \n",
    "# in the nimblebox.ai platform. \n",
    "\n",
    "from tensorflow.keras.applications import mobilenet"
   ]
  },
  {
   "cell_type": "code",
   "execution_count": 28,
   "metadata": {},
   "outputs": [
    {
     "name": "stdout",
     "output_type": "stream",
     "text": [
      "WARNING:tensorflow:`input_shape` is undefined or non-square, or `rows` is not in [128, 160, 192, 224]. Weights for input shape (224, 224) will be loaded as the default.\n",
      "Downloading data from https://storage.googleapis.com/tensorflow/keras-applications/mobilenet/mobilenet_1_0_224_tf_no_top.h5\n",
      "17227776/17225924 [==============================] - 1s 0us/step\n"
     ]
    }
   ],
   "source": [
    "mobilenet_transfer = mobilenet.MobileNet(weights='imagenet', include_top=False)\n",
    "\n",
    "class RNNCNN_TL(ModelBuilder):\n",
    "    \n",
    "    def define_model(self,lstm_cells=64,dense_neurons=64,dropout=0.25):\n",
    "        \n",
    "        model = Sequential()\n",
    "        model.add(TimeDistributed(mobilenet_transfer,input_shape=(self.frames_to_sample,self.image_height,self.image_width,self.channels)))\n",
    "        \n",
    "        \n",
    "        for layer in model.layers:\n",
    "            layer.trainable = False\n",
    "        \n",
    "        \n",
    "        model.add(TimeDistributed(BatchNormalization()))\n",
    "        model.add(TimeDistributed(MaxPooling2D((2, 2))))\n",
    "        model.add(TimeDistributed(Flatten()))\n",
    "\n",
    "        model.add(LSTM(lstm_cells))\n",
    "        model.add(Dropout(dropout))\n",
    "        \n",
    "        model.add(Dense(dense_neurons,activation='relu'))\n",
    "        model.add(Dropout(dropout))\n",
    "        \n",
    "        model.add(Dense(self.num_classes, activation='softmax'))\n",
    "        \n",
    "        \n",
    "        optimiser = tf.optimizers.Adam()\n",
    "        model.compile(optimizer=optimiser, loss='categorical_crossentropy', metrics=['categorical_accuracy'])\n",
    "        return model"
   ]
  },
  {
   "cell_type": "code",
   "execution_count": 29,
   "metadata": {},
   "outputs": [
    {
     "name": "stdout",
     "output_type": "stream",
     "text": [
      "Model: \"sequential_4\"\n",
      "_________________________________________________________________\n",
      "Layer (type)                 Output Shape              Param #   \n",
      "=================================================================\n",
      "time_distributed_16 (TimeDis (None, 16, 3, 3, 1024)    3228864   \n",
      "_________________________________________________________________\n",
      "time_distributed_17 (TimeDis (None, 16, 3, 3, 1024)    4096      \n",
      "_________________________________________________________________\n",
      "time_distributed_18 (TimeDis (None, 16, 1, 1, 1024)    0         \n",
      "_________________________________________________________________\n",
      "time_distributed_19 (TimeDis (None, 16, 1024)          0         \n",
      "_________________________________________________________________\n",
      "lstm_1 (LSTM)                (None, 128)               590336    \n",
      "_________________________________________________________________\n",
      "dropout_8 (Dropout)          (None, 128)               0         \n",
      "_________________________________________________________________\n",
      "dense_11 (Dense)             (None, 128)               16512     \n",
      "_________________________________________________________________\n",
      "dropout_9 (Dropout)          (None, 128)               0         \n",
      "_________________________________________________________________\n",
      "dense_12 (Dense)             (None, 5)                 645       \n",
      "=================================================================\n",
      "Total params: 3,840,453\n",
      "Trainable params: 609,541\n",
      "Non-trainable params: 3,230,912\n",
      "_________________________________________________________________\n"
     ]
    }
   ],
   "source": [
    "rnn_cnn_tl=RNNCNN_TL()\n",
    "rnn_cnn_tl.initialize_path(project_folder)\n",
    "rnn_cnn_tl.initialize_image_properties(image_height=120,image_width=120)\n",
    "rnn_cnn_tl.initialize_hyperparams(frames_to_sample=16,batch_size=5,num_epochs=20)\n",
    "rnn_cnn_tl_model=rnn_cnn_tl.define_model(lstm_cells=128,dense_neurons=128,dropout=0.25)\n",
    "rnn_cnn_tl_model.summary()"
   ]
  },
  {
   "cell_type": "code",
   "execution_count": 30,
   "metadata": {},
   "outputs": [
    {
     "name": "stdout",
     "output_type": "stream",
     "text": [
      "Total Params: 3840453\n",
      "WARNING:tensorflow:`period` argument is deprecated. Please use `save_freq` to specify the frequency in number of batches seen.\n",
      "Epoch 1/20\n",
      "133/133 [==============================] - 35s 243ms/step - loss: 1.5419 - categorical_accuracy: 0.3288 - val_loss: 0.9932 - val_categorical_accuracy: 0.6600\n",
      "\n",
      "Epoch 00001: val_loss improved from inf to 0.99320, saving model to model_init_2022-05-0612_41_56.369805/model-00001-1.42230-0.40573-0.99320-0.66000.h5\n",
      "Epoch 2/20\n",
      "133/133 [==============================] - 31s 237ms/step - loss: 0.9753 - categorical_accuracy: 0.6247 - val_loss: 0.7747 - val_categorical_accuracy: 0.7100\n",
      "\n",
      "Epoch 00002: val_loss improved from 0.99320 to 0.77468, saving model to model_init_2022-05-0612_41_56.369805/model-00002-0.92734-0.64555-0.77468-0.71000.h5\n",
      "Epoch 3/20\n",
      "133/133 [==============================] - 32s 239ms/step - loss: 0.6967 - categorical_accuracy: 0.7669 - val_loss: 0.7063 - val_categorical_accuracy: 0.7500\n",
      "\n",
      "Epoch 00003: val_loss improved from 0.77468 to 0.70629, saving model to model_init_2022-05-0612_41_56.369805/model-00003-0.67818-0.76169-0.70629-0.75000.h5\n",
      "Epoch 4/20\n",
      "133/133 [==============================] - 31s 235ms/step - loss: 0.4509 - categorical_accuracy: 0.8527 - val_loss: 0.8904 - val_categorical_accuracy: 0.6400\n",
      "\n",
      "Epoch 00004: val_loss did not improve from 0.70629\n",
      "Epoch 5/20\n",
      "133/133 [==============================] - 31s 235ms/step - loss: 0.3115 - categorical_accuracy: 0.8958 - val_loss: 0.7152 - val_categorical_accuracy: 0.7400\n",
      "\n",
      "Epoch 00005: val_loss did not improve from 0.70629\n",
      "Epoch 6/20\n",
      "133/133 [==============================] - 31s 235ms/step - loss: 0.1839 - categorical_accuracy: 0.9401 - val_loss: 0.8059 - val_categorical_accuracy: 0.7000\n",
      "\n",
      "Epoch 00006: val_loss did not improve from 0.70629\n",
      "Epoch 7/20\n",
      "133/133 [==============================] - 31s 234ms/step - loss: 0.1257 - categorical_accuracy: 0.9594 - val_loss: 0.8370 - val_categorical_accuracy: 0.6900\n",
      "\n",
      "Epoch 00007: val_loss did not improve from 0.70629\n",
      "\n",
      "Epoch 00007: ReduceLROnPlateau reducing learning rate to 0.00020000000949949026.\n",
      "Epoch 8/20\n",
      "133/133 [==============================] - 31s 235ms/step - loss: 0.1154 - categorical_accuracy: 0.9616 - val_loss: 1.1104 - val_categorical_accuracy: 0.6000\n",
      "\n",
      "Epoch 00008: val_loss did not improve from 0.70629\n",
      "Epoch 9/20\n",
      "133/133 [==============================] - 31s 233ms/step - loss: 0.0578 - categorical_accuracy: 0.9885 - val_loss: 0.9914 - val_categorical_accuracy: 0.6800\n",
      "\n",
      "Epoch 00009: val_loss did not improve from 0.70629\n",
      "Epoch 10/20\n",
      "133/133 [==============================] - 31s 235ms/step - loss: 0.0497 - categorical_accuracy: 0.9937 - val_loss: 0.7817 - val_categorical_accuracy: 0.7100\n",
      "\n",
      "Epoch 00010: val_loss did not improve from 0.70629\n",
      "Epoch 11/20\n",
      "133/133 [==============================] - 31s 235ms/step - loss: 0.0372 - categorical_accuracy: 0.9935 - val_loss: 0.7848 - val_categorical_accuracy: 0.7300\n",
      "\n",
      "Epoch 00011: val_loss did not improve from 0.70629\n",
      "\n",
      "Epoch 00011: ReduceLROnPlateau reducing learning rate to 4.0000001899898055e-05.\n",
      "Epoch 12/20\n",
      "133/133 [==============================] - 32s 240ms/step - loss: 0.0419 - categorical_accuracy: 0.9919 - val_loss: 1.2279 - val_categorical_accuracy: 0.6400\n",
      "\n",
      "Epoch 00012: val_loss did not improve from 0.70629\n",
      "Epoch 13/20\n",
      "133/133 [==============================] - 32s 241ms/step - loss: 0.0260 - categorical_accuracy: 0.9933 - val_loss: 0.7862 - val_categorical_accuracy: 0.7200\n",
      "\n",
      "Epoch 00013: val_loss did not improve from 0.70629\n",
      "Epoch 00013: early stopping\n"
     ]
    }
   ],
   "source": [
    "print(\"Total Params:\", rnn_cnn_tl_model.count_params())\n",
    "history_model5=rnn_cnn_tl.train_model(rnn_cnn_tl_model)"
   ]
  },
  {
   "cell_type": "code",
   "execution_count": 31,
   "metadata": {},
   "outputs": [
    {
     "data": {
      "image/png": "[encoded data removed]",
      "text/plain": [
       "<Figure size 1080x288 with 2 Axes>"
      ]
     },
     "metadata": {
      "needs_background": "light"
     },
     "output_type": "display_data"
    }
   ],
   "source": [
    "plot(history_model5)"
   ]
  },
  {
   "cell_type": "markdown",
   "metadata": {},
   "source": [
    "#### OBSERVATION\n",
    "- From above graph we can see that model has improved a lot.\n",
    "  1. Difference between categorical accuracy and validation accuracy has reduced compared to previous model but could be still improved further.\n",
    "  2. Difference between losses have also reduced significantly compared to previous model.\n",
    "- We know GRU gives similar performance as LSTM but reduces computational time alot. Let's try GRU to improve model performance and reduce computational time which is a big factor in industry applications."
   ]
  },
  {
   "cell_type": "markdown",
   "metadata": {},
   "source": [
    "### Model 6 - CNN + GRU + Transfer Learning "
   ]
  },
  {
   "cell_type": "code",
   "execution_count": 33,
   "metadata": {},
   "outputs": [
    {
     "name": "stdout",
     "output_type": "stream",
     "text": [
      "WARNING:tensorflow:`input_shape` is undefined or non-square, or `rows` is not in [128, 160, 192, 224]. Weights for input shape (224, 224) will be loaded as the default.\n"
     ]
    }
   ],
   "source": [
    "from tensorflow.keras.applications import mobilenet\n",
    "\n",
    "mobilenet_transfer = mobilenet.MobileNet(weights='imagenet', include_top=False)\n",
    "\n",
    "class RNNCNN_TL2(ModelBuilder):\n",
    "    \n",
    "    def define_model(self,gru_cells=64,dense_neurons=64,dropout=0.25):\n",
    "        \n",
    "        model = Sequential()\n",
    "        model.add(TimeDistributed(mobilenet_transfer,input_shape=(self.frames_to_sample,self.image_height,self.image_width,self.channels)))\n",
    " \n",
    "        \n",
    "        model.add(TimeDistributed(BatchNormalization()))\n",
    "        model.add(TimeDistributed(MaxPooling2D((2, 2))))\n",
    "        model.add(TimeDistributed(Flatten()))\n",
    "\n",
    "        model.add(GRU(gru_cells))\n",
    "        model.add(Dropout(dropout))\n",
    "        \n",
    "        model.add(Dense(dense_neurons,activation='relu'))\n",
    "        model.add(Dropout(dropout))\n",
    "        \n",
    "        model.add(Dense(self.num_classes, activation='softmax'))\n",
    "        \n",
    "        \n",
    "        optimiser = tf.optimizers.Adam()\n",
    "        model.compile(optimizer=optimiser, loss='categorical_crossentropy', metrics=['categorical_accuracy'])\n",
    "        return model"
   ]
  },
  {
   "cell_type": "code",
   "execution_count": 34,
   "metadata": {},
   "outputs": [
    {
     "name": "stdout",
     "output_type": "stream",
     "text": [
      "Model: \"sequential_5\"\n",
      "_________________________________________________________________\n",
      "Layer (type)                 Output Shape              Param #   \n",
      "=================================================================\n",
      "time_distributed_20 (TimeDis (None, 16, 3, 3, 1024)    3228864   \n",
      "_________________________________________________________________\n",
      "time_distributed_21 (TimeDis (None, 16, 3, 3, 1024)    4096      \n",
      "_________________________________________________________________\n",
      "time_distributed_22 (TimeDis (None, 16, 1, 1, 1024)    0         \n",
      "_________________________________________________________________\n",
      "time_distributed_23 (TimeDis (None, 16, 1024)          0         \n",
      "_________________________________________________________________\n",
      "gru (GRU)                    (None, 128)               443136    \n",
      "_________________________________________________________________\n",
      "dropout_10 (Dropout)         (None, 128)               0         \n",
      "_________________________________________________________________\n",
      "dense_13 (Dense)             (None, 128)               16512     \n",
      "_________________________________________________________________\n",
      "dropout_11 (Dropout)         (None, 128)               0         \n",
      "_________________________________________________________________\n",
      "dense_14 (Dense)             (None, 5)                 645       \n",
      "=================================================================\n",
      "Total params: 3,693,253\n",
      "Trainable params: 3,669,317\n",
      "Non-trainable params: 23,936\n",
      "_________________________________________________________________\n"
     ]
    }
   ],
   "source": [
    "rnn_cnn_tl2=RNNCNN_TL2()\n",
    "rnn_cnn_tl2.initialize_path(project_folder)\n",
    "rnn_cnn_tl2.initialize_image_properties(image_height=120,image_width=120)\n",
    "rnn_cnn_tl2.initialize_hyperparams(frames_to_sample=16,batch_size=5,num_epochs=20)\n",
    "rnn_cnn_tl2_model=rnn_cnn_tl2.define_model(gru_cells=128,dense_neurons=128,dropout=0.25)\n",
    "rnn_cnn_tl2_model.summary()"
   ]
  },
  {
   "cell_type": "code",
   "execution_count": 35,
   "metadata": {},
   "outputs": [
    {
     "name": "stdout",
     "output_type": "stream",
     "text": [
      "Total Params: 3693253\n",
      "WARNING:tensorflow:`period` argument is deprecated. Please use `save_freq` to specify the frequency in number of batches seen.\n",
      "Epoch 1/20\n",
      "133/133 [==============================] - 38s 253ms/step - loss: 1.5403 - categorical_accuracy: 0.3678 - val_loss: 0.8385 - val_categorical_accuracy: 0.6300\n",
      "\n",
      "Epoch 00001: val_loss improved from inf to 0.83845, saving model to model_init_2022-05-0612_50_42.315603/model-00001-1.30240-0.48265-0.83845-0.63000.h5\n",
      "Epoch 2/20\n",
      "133/133 [==============================] - 32s 244ms/step - loss: 0.8395 - categorical_accuracy: 0.6635 - val_loss: 0.6426 - val_categorical_accuracy: 0.7800\n",
      "\n",
      "Epoch 00002: val_loss improved from 0.83845 to 0.64258, saving model to model_init_2022-05-0612_50_42.315603/model-00002-0.81846-0.67270-0.64258-0.78000.h5\n",
      "Epoch 3/20\n",
      "133/133 [==============================] - 32s 243ms/step - loss: 0.6005 - categorical_accuracy: 0.7990 - val_loss: 0.6362 - val_categorical_accuracy: 0.7600\n",
      "\n",
      "Epoch 00003: val_loss improved from 0.64258 to 0.63620, saving model to model_init_2022-05-0612_50_42.315603/model-00003-0.60750-0.80090-0.63620-0.76000.h5\n",
      "Epoch 4/20\n",
      "133/133 [==============================] - 32s 245ms/step - loss: 0.6020 - categorical_accuracy: 0.7971 - val_loss: 0.4310 - val_categorical_accuracy: 0.8400\n",
      "\n",
      "Epoch 00004: val_loss improved from 0.63620 to 0.43104, saving model to model_init_2022-05-0612_50_42.315603/model-00004-0.59669-0.80090-0.43104-0.84000.h5\n",
      "Epoch 5/20\n",
      "133/133 [==============================] - 32s 241ms/step - loss: 0.4901 - categorical_accuracy: 0.8249 - val_loss: 0.4292 - val_categorical_accuracy: 0.8400\n",
      "\n",
      "Epoch 00005: val_loss improved from 0.43104 to 0.42922, saving model to model_init_2022-05-0612_50_42.315603/model-00005-0.52285-0.80845-0.42922-0.84000.h5\n",
      "Epoch 6/20\n",
      "133/133 [==============================] - 33s 245ms/step - loss: 0.4063 - categorical_accuracy: 0.8457 - val_loss: 0.4408 - val_categorical_accuracy: 0.8400\n",
      "\n",
      "Epoch 00006: val_loss did not improve from 0.42922\n",
      "Epoch 7/20\n",
      "133/133 [==============================] - 33s 245ms/step - loss: 0.2580 - categorical_accuracy: 0.9117 - val_loss: 0.3915 - val_categorical_accuracy: 0.8900\n",
      "\n",
      "Epoch 00007: val_loss improved from 0.42922 to 0.39148, saving model to model_init_2022-05-0612_50_42.315603/model-00007-0.30812-0.90196-0.39148-0.89000.h5\n",
      "Epoch 8/20\n",
      "133/133 [==============================] - 32s 241ms/step - loss: 0.3953 - categorical_accuracy: 0.8788 - val_loss: 0.2039 - val_categorical_accuracy: 0.9400\n",
      "\n",
      "Epoch 00008: val_loss improved from 0.39148 to 0.20387, saving model to model_init_2022-05-0612_50_42.315603/model-00008-0.32229-0.88989-0.20387-0.94000.h5\n",
      "Epoch 9/20\n",
      "133/133 [==============================] - 32s 244ms/step - loss: 0.2701 - categorical_accuracy: 0.9209 - val_loss: 0.4786 - val_categorical_accuracy: 0.8400\n",
      "\n",
      "Epoch 00009: val_loss did not improve from 0.20387\n",
      "Epoch 10/20\n",
      "133/133 [==============================] - 33s 245ms/step - loss: 0.3210 - categorical_accuracy: 0.8915 - val_loss: 0.3102 - val_categorical_accuracy: 0.8900\n",
      "\n",
      "Epoch 00010: val_loss did not improve from 0.20387\n",
      "Epoch 11/20\n",
      "133/133 [==============================] - 32s 241ms/step - loss: 0.2958 - categorical_accuracy: 0.8962 - val_loss: 0.3491 - val_categorical_accuracy: 0.8600\n",
      "\n",
      "Epoch 00011: val_loss did not improve from 0.20387\n",
      "Epoch 12/20\n",
      "133/133 [==============================] - 32s 241ms/step - loss: 0.2713 - categorical_accuracy: 0.9066 - val_loss: 0.3249 - val_categorical_accuracy: 0.9100\n",
      "\n",
      "Epoch 00012: val_loss did not improve from 0.20387\n",
      "\n",
      "Epoch 00012: ReduceLROnPlateau reducing learning rate to 0.00020000000949949026.\n",
      "Epoch 13/20\n",
      "133/133 [==============================] - 32s 243ms/step - loss: 0.2298 - categorical_accuracy: 0.9220 - val_loss: 0.3026 - val_categorical_accuracy: 0.8700\n",
      "\n",
      "Epoch 00013: val_loss did not improve from 0.20387\n",
      "Epoch 14/20\n",
      "133/133 [==============================] - 33s 248ms/step - loss: 0.1000 - categorical_accuracy: 0.9712 - val_loss: 0.1596 - val_categorical_accuracy: 0.9300\n",
      "\n",
      "Epoch 00014: val_loss improved from 0.20387 to 0.15963, saving model to model_init_2022-05-0612_50_42.315603/model-00014-0.13874-0.95626-0.15963-0.93000.h5\n",
      "Epoch 15/20\n",
      "133/133 [==============================] - 33s 247ms/step - loss: 0.1264 - categorical_accuracy: 0.9592 - val_loss: 0.2350 - val_categorical_accuracy: 0.8900\n",
      "\n",
      "Epoch 00015: val_loss did not improve from 0.15963\n",
      "Epoch 16/20\n",
      "133/133 [==============================] - 32s 239ms/step - loss: 0.1142 - categorical_accuracy: 0.9597 - val_loss: 0.2493 - val_categorical_accuracy: 0.9300\n",
      "\n",
      "Epoch 00016: val_loss did not improve from 0.15963\n",
      "Epoch 17/20\n",
      "133/133 [==============================] - 32s 243ms/step - loss: 0.0775 - categorical_accuracy: 0.9759 - val_loss: 0.1400 - val_categorical_accuracy: 0.9700\n",
      "\n",
      "Epoch 00017: val_loss improved from 0.15963 to 0.13999, saving model to model_init_2022-05-0612_50_42.315603/model-00017-0.08963-0.97134-0.13999-0.97000.h5\n",
      "Epoch 18/20\n",
      "133/133 [==============================] - 32s 241ms/step - loss: 0.0652 - categorical_accuracy: 0.9767 - val_loss: 0.1647 - val_categorical_accuracy: 0.9600\n",
      "\n",
      "Epoch 00018: val_loss did not improve from 0.13999\n",
      "Epoch 19/20\n",
      "133/133 [==============================] - 32s 242ms/step - loss: 0.0601 - categorical_accuracy: 0.9873 - val_loss: 0.1374 - val_categorical_accuracy: 0.9500\n",
      "\n",
      "Epoch 00019: val_loss improved from 0.13999 to 0.13739, saving model to model_init_2022-05-0612_50_42.315603/model-00019-0.05952-0.98793-0.13739-0.95000.h5\n",
      "Epoch 20/20\n",
      "133/133 [==============================] - 32s 243ms/step - loss: 0.0334 - categorical_accuracy: 0.9892 - val_loss: 0.1795 - val_categorical_accuracy: 0.9300\n",
      "\n",
      "Epoch 00020: val_loss did not improve from 0.13739\n"
     ]
    }
   ],
   "source": [
    "print(\"Total Params:\", rnn_cnn_tl2_model.count_params())\n",
    "history_model6=rnn_cnn_tl2.train_model(rnn_cnn_tl2_model)"
   ]
  },
  {
   "cell_type": "code",
   "execution_count": 36,
   "metadata": {},
   "outputs": [
    {
     "data": {
      "image/png": "[encoded data removed]",
      "text/plain": [
       "<Figure size 1080x288 with 2 Axes>"
      ]
     },
     "metadata": {
      "needs_background": "light"
     },
     "output_type": "display_data"
    }
   ],
   "source": [
    "plot(history_model6)"
   ]
  },
  {
   "cell_type": "markdown",
   "metadata": {},
   "source": [
    "#### OBSERVATION\n",
    "- From above graph we can see that model has improved a bit more compared to LSTM model.\n",
    "  1. Difference between categorical accuracy and validation accuracy is very less now.\n",
    "  2. Losses are very low as well.\n",
    "- By far its the best performing model.  "
   ]
  },
  {
   "cell_type": "markdown",
   "metadata": {},
   "source": [
    "As \"CNN + GRU + Tranfer Learning\" model has given good performance on both train and validation data. Considering it as the final model for Gesture Recognition.\n",
    "\n",
    "#### Note: Please refer attached document for summary of all the models in the notebook."
   ]
  },
  {
   "cell_type": "markdown",
   "metadata": {},
   "source": [
    "### Loading model and Testing"
   ]
  },
  {
   "cell_type": "code",
   "execution_count": 37,
   "metadata": {},
   "outputs": [],
   "source": [
    "import time\n",
    "from tensorflow.keras.models import load_model"
   ]
  },
  {
   "cell_type": "code",
   "execution_count": 39,
   "metadata": {},
   "outputs": [],
   "source": [
    "model = load_model('model_init_2022-05-0612_50_42.315603/model-00019-0.05952-0.98793-0.13739-0.95000.h5')"
   ]
  },
  {
   "cell_type": "code",
   "execution_count": 40,
   "metadata": {},
   "outputs": [],
   "source": [
    "test_generator=RNNCNN1()\n",
    "test_generator.initialize_path(project_folder)\n",
    "test_generator.initialize_image_properties(image_height=120,image_width=120)\n",
    "test_generator.initialize_hyperparams(frames_to_sample=18,batch_size=20,num_epochs=20)\n",
    "\n",
    "g=test_generator.generator(test_generator.val_path,test_generator.val_doc,augment=False)\n",
    "batch_data, batch_labels=next(g)"
   ]
  },
  {
   "cell_type": "code",
   "execution_count": 41,
   "metadata": {},
   "outputs": [
    {
     "data": {
      "text/plain": [
       "array([[1., 0., 0., 0., 0.],\n",
       "       [0., 1., 0., 0., 0.],\n",
       "       [1., 0., 0., 0., 0.],\n",
       "       [0., 0., 1., 0., 0.],\n",
       "       [0., 0., 0., 0., 1.],\n",
       "       [0., 0., 0., 1., 0.],\n",
       "       [0., 0., 1., 0., 0.],\n",
       "       [0., 0., 1., 0., 0.],\n",
       "       [0., 0., 1., 0., 0.],\n",
       "       [0., 0., 0., 1., 0.],\n",
       "       [0., 0., 1., 0., 0.],\n",
       "       [0., 1., 0., 0., 0.],\n",
       "       [0., 1., 0., 0., 0.],\n",
       "       [0., 0., 0., 0., 1.],\n",
       "       [0., 1., 0., 0., 0.],\n",
       "       [0., 0., 0., 1., 0.],\n",
       "       [0., 0., 1., 0., 0.],\n",
       "       [0., 0., 1., 0., 0.],\n",
       "       [1., 0., 0., 0., 0.],\n",
       "       [0., 1., 0., 0., 0.]])"
      ]
     },
     "execution_count": 41,
     "metadata": {},
     "output_type": "execute_result"
    }
   ],
   "source": [
    "batch_labels"
   ]
  },
  {
   "cell_type": "code",
   "execution_count": 42,
   "metadata": {},
   "outputs": [
    {
     "name": "stdout",
     "output_type": "stream",
     "text": [
      "WARNING:tensorflow:Model was constructed with shape (None, 16, 120, 120, 3) for input KerasTensor(type_spec=TensorSpec(shape=(None, 16, 120, 120, 3), dtype=tf.float32, name='time_distributed_20_input'), name='time_distributed_20_input', description=\"created by layer 'time_distributed_20_input'\"), but it was called on an input with incompatible shape (None, 18, 120, 120, 3).\n",
      "[0 1 0 2 4 3 2 2 2 3 2 1 1 4 1 3 2 2 0 1]\n"
     ]
    }
   ],
   "source": [
    "print(np.argmax(model.predict(batch_data[:,:,:,:,:]),axis=1))"
   ]
  },
  {
   "cell_type": "markdown",
   "metadata": {},
   "source": [
    "#### Compiled By:\n",
    "1. Shivani Shrivastava\n",
    "2. Rishabh Vimal"
   ]
  }
 ],
 "metadata": {
  "kernelspec": {
   "display_name": "Python 3",
   "language": "python",
   "name": "python3"
  },
  "language_info": {
   "codemirror_mode": {
    "name": "ipython",
    "version": 3
   },
   "file_extension": ".py",
   "mimetype": "text/x-python",
   "name": "python",
   "nbconvert_exporter": "python",
   "pygments_lexer": "ipython3",
   "version": "3.8.8"
  }
 },
 "nbformat": 4,
 "nbformat_minor": 2
}
